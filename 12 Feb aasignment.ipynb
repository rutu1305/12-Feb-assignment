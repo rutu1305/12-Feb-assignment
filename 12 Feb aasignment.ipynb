{
 "cells": [
  {
   "cell_type": "code",
   "execution_count": null,
   "id": "f1677be8-ef56-438d-8e7a-57e73f9ec15a",
   "metadata": {},
   "outputs": [],
   "source": [
    "1. Exception:- An exception is an event that occurs during the execution of programs that disrupt\n",
    "the normal flow of execution (e.g., KeyError Raised when a key is not found in a dictionary.) An exception \n",
    "is a Python object that represents an error.\n",
    "Difference between exception and error:-\n",
    "An error is an issue in a program that prevents the program from completing its task. In comparison,\n",
    "an exception is a condition that interrupts the normal flow of the program. Both errors and exceptions are\n",
    "a type of runtime error, which meansthey occur during the execution of a program."
   ]
  },
  {
   "cell_type": "code",
   "execution_count": null,
   "id": "36ad3733-4678-4f0a-a4ea-bb87d2882f3d",
   "metadata": {},
   "outputs": [],
   "source": [
    "2. When an exception occurred, if you dont handle it, the program terminates abruptly and the code\n",
    "past the line that caused the exception will not get executed.\n",
    "Eg- # initialize the amount variable\n",
    "marks = 10000\n",
    " \n",
    "# perform division with 0\n",
    "a = marks / 0\n",
    "print(a)"
   ]
  },
  {
   "cell_type": "code",
   "execution_count": null,
   "id": "f26e4aea-160c-43a9-82fd-83e4cc88bc0b",
   "metadata": {},
   "outputs": [],
   "source": [
    "3. The try and except block in Python is used to catch and handle exceptions. Python executes code following the try \n",
    "statement as a “normal” part of the program.\n",
    "Eg:- try:\n",
    "    numerator = 10\n",
    "    denominator = 0\n",
    "\n",
    "    result = numerator/denominator\n",
    "\n",
    "    print(result)\n",
    "except:\n",
    "    print(\"Error: Denominator cannot be 0.\")\n",
    "\n",
    "# Output: Error: Denominator cannot be 0"
   ]
  },
  {
   "cell_type": "code",
   "execution_count": null,
   "id": "bcfbadf2-dc36-4a95-b2ee-9a4fa97f5d8f",
   "metadata": {},
   "outputs": [],
   "source": [
    "4. Try and else :-\n",
    "Python also supports the else clause, which should come after every except clause, in the try, and\n",
    "except blocks. Only when the try clause fails to throw an exception the Python \n",
    "interpreter goes on to the else block.\n",
    "Eg:- # Defining a function which returns reciprocal of a number  \n",
    "def reciprocal( num1 ):  \n",
    "    try:  \n",
    "        reci = 1 / num1  \n",
    "    except ZeroDivisionError:  \n",
    "        print( \"We cannot divide by zero\" )  \n",
    "    else:  \n",
    "        print ( reci )  \n",
    "# Calling the function and passing values  \n",
    "reciprocal( 4 )  \n",
    "reciprocal( 0 )  \n",
    "\n",
    "* Finally:-The finally keyword is available in Python, and it is always used after the try-except block. \n",
    "The finally code block is always executed after the try block has terminated normally or after the try block \n",
    "has terminated for some other reason.\n",
    "Eg:- # Raising an exception in try block  \n",
    "try:  \n",
    "    div = 4 // 0    \n",
    "    print( div )  \n",
    "# this block will handle the exception raised  \n",
    "except ZeroDivisionError:  \n",
    "    print( \"Atepting to divide by zero\" )  \n",
    "# this will always be executed no matter exception is raised or not  \n",
    "finally:  \n",
    "    print( 'This is code of finally clause' )  \n",
    "    \n",
    "* Raise:- If a condition does not meet our criteria but is correct according to the Python interpreter, we \n",
    "can intentionally raise an exception using the raise keyword. We can use a customized exception \n",
    "in conjunction with the statement.    \n",
    "Eg:- #Python code to show how to raise an exception in Python  \n",
    "num = [3, 4, 5, 7]  \n",
    "if len(num) > 3:  \n",
    "    raise Exception( f\"Length of the given list must be less than or equal to 3 but is {len(num)}\" )  "
   ]
  },
  {
   "cell_type": "code",
   "execution_count": null,
   "id": "4e556096-7a9f-40cc-b87e-39a6235d336d",
   "metadata": {},
   "outputs": [],
   "source": [
    "5. Custom exceptions provide you the flexibility to add attributes and methods that are not part of a standard \n",
    "Java exception. These can store additional information, like an application-specific error code, or provide utility\n",
    "methods that can be used to handle or present the exception to a user.\n",
    "Having custom exceptions - tailored to your specific use cases and that you can raise and catch in specific \n",
    "circumstances - can make your code much more readable and robust, and reduce the amount of code you write later to try and \n",
    "figure out what exactly went wrong\n",
    "Eg:- >>> class MyCustomException(Exception):\n",
    "...     pass\n",
    "...\n",
    ">>> raise MyCustomException()\n",
    "Traceback (most recent call last):\n",
    "  File \"<stdin>\", line 1, in <module>\n",
    "__main__.MyCustomException"
   ]
  },
  {
   "cell_type": "code",
   "execution_count": null,
   "id": "f7c16879-d9ec-46ff-90a0-cdb0912e8d1e",
   "metadata": {},
   "outputs": [],
   "source": [
    "6. class MyCustomError(Exception):\n",
    "    def __init__(self, *args):\n",
    "        if args:\n",
    "            self.message = args[0]\n",
    "        else:\n",
    "            self.message = None\n",
    "\n",
    "    def __str__(self):\n",
    "        print('calling str')\n",
    "        if self.message:\n",
    "            return 'MyCustomError, {0} '.format(self.message)\n",
    "        else:\n",
    "            return 'MyCustomError has been raised'\n",
    "\n",
    "\n",
    "# raise MyCustomError\n",
    "\n",
    "raise MyCustomError('We have a problem')"
   ]
  }
 ],
 "metadata": {
  "kernelspec": {
   "display_name": "Python 3 (ipykernel)",
   "language": "python",
   "name": "python3"
  },
  "language_info": {
   "codemirror_mode": {
    "name": "ipython",
    "version": 3
   },
   "file_extension": ".py",
   "mimetype": "text/x-python",
   "name": "python",
   "nbconvert_exporter": "python",
   "pygments_lexer": "ipython3",
   "version": "3.10.8"
  }
 },
 "nbformat": 4,
 "nbformat_minor": 5
}
